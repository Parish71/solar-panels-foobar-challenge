{
 "cells": [
  {
   "cell_type": "code",
   "execution_count": 6,
   "id": "a9820eaf",
   "metadata": {},
   "outputs": [
    {
     "name": "stdout",
     "output_type": "stream",
     "text": [
      "60\n"
     ]
    }
   ],
   "source": [
    "def solution(xs):\n",
    "    xs.sort()\n",
    "\n",
    "\n",
    "    max_product = 1\n",
    "    negative_count = 0\n",
    "    zero_count = 0\n",
    "\n",
    "    for element in xs:\n",
    "        if element == 0:\n",
    "            zero_count += 1\n",
    "        elif element < 0:\n",
    "            negative_count += 1\n",
    "\n",
    "        max_product *= element\n",
    "\n",
    "\n",
    "    if zero_count == len(xs) or (zero_count == len(xs) - 1 and negative_count == 1):\n",
    "        return \"0\"\n",
    "\n",
    "    if negative_count % 2 != 0:\n",
    "        xs.remove(xs[negative_count - 1])\n",
    "\n",
    "    max_product = 1\n",
    "    for element in xs:\n",
    "        max_product *= element\n",
    "\n",
    "    return str(max_product)\n",
    "print(solution([-2, -3, 4, -5]))"
   ]
  },
  {
   "cell_type": "code",
   "execution_count": 8,
   "id": "5057bf2e",
   "metadata": {},
   "outputs": [
    {
     "name": "stdout",
     "output_type": "stream",
     "text": [
      "0\n",
      "15\n"
     ]
    }
   ],
   "source": [
    "def solution(xs):\n",
    "    # Sort the array in non-decreasing order\n",
    "    xs.sort()\n",
    "\n",
    "    # Initialize variables for maximum positive product, negative numbers, and zero count\n",
    "    max_product = 1\n",
    "    negative_nums = []\n",
    "    zero_count = 0\n",
    "\n",
    "    for x in xs:\n",
    "        if x < 0:\n",
    "            negative_nums.append(x)\n",
    "        elif x == 0:\n",
    "            zero_count += 1\n",
    "        max_product *= x\n",
    "\n",
    "    # If all numbers are zeros or there are no negative numbers and at least one zero,\n",
    "    # the maximum product would be 0.\n",
    "    if zero_count == len(xs) or (len(negative_nums) == 0 and zero_count >= 1):\n",
    "        return \"0\"\n",
    "\n",
    "    # If there is an odd number of negative numbers, exclude the largest negative number\n",
    "    if len(negative_nums) % 2 != 0:\n",
    "        negative_nums.remove(max(negative_nums))\n",
    "\n",
    "    # Calculate the maximum product\n",
    "    max_product = 1\n",
    "    for num in negative_nums:\n",
    "        max_product *= num\n",
    "\n",
    "    return str(max_product)\n",
    "print(solution([2, 0, 2, 2, 0]))\n",
    "print(solution([-2, -3, 4, -5]))"
   ]
  }
 ],
 "metadata": {
  "kernelspec": {
   "display_name": "Python 3 (ipykernel)",
   "language": "python",
   "name": "python3"
  },
  "language_info": {
   "codemirror_mode": {
    "name": "ipython",
    "version": 3
   },
   "file_extension": ".py",
   "mimetype": "text/x-python",
   "name": "python",
   "nbconvert_exporter": "python",
   "pygments_lexer": "ipython3",
   "version": "3.9.13"
  }
 },
 "nbformat": 4,
 "nbformat_minor": 5
}
