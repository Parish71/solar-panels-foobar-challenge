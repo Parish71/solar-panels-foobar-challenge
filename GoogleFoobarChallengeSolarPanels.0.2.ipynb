{
 "cells": [
  {
   "cell_type": "code",
   "execution_count": 29,
   "id": "145dbeb8",
   "metadata": {
    "scrolled": true
   },
   "outputs": [
    {
     "name": "stdout",
     "output_type": "stream",
     "text": [
      "8\n"
     ]
    }
   ],
   "source": [
    "import math\n",
    "import numpy\n",
    "\n",
    "def solution(xs):\n",
    "    aux = 1\n",
    "    for element in xs:\n",
    "        if element > 1 or element < 0:\n",
    "            aux = aux * element\n",
    "            \n",
    "    print(str(aux))\n",
    "      \n",
    "# Vou ter que usar a função abs() \"ideia colocar uma condicional que trabalhe o terceiro numero negativo do array em abs()\"\n",
    "# Example usage\n",
    "\n",
    "solution([2, 0, 2, 2, 0])"
   ]
  },
  {
   "cell_type": "code",
   "execution_count": null,
   "id": "c0a719e1",
   "metadata": {},
   "outputs": [],
   "source": [
    "def solution(xs):\n",
    "    if len(xs) == 1:\n",
    "        return str(xs[0])  # Only one panel, return its power output as the maximum product\n",
    "    \n",
    "    positive_nums = [num for num in xs if num > 0]\n",
    "    negative_nums = [num for num in xs if num < 0]\n",
    "    \n",
    "\n",
    "    product = 1\n",
    "    \n",
    "    # Multiply all positive numbers together\n",
    "    for num in positive_nums:\n",
    "        product *= num\n",
    "    \n",
    "  \n",
    "    if len(negative_nums) % 2 != 0:\n",
    "        negative_nums.remove((negative_nums))\n",
    "    \n",
    "\n",
    "    for num in negative_nums:\n",
    "        product *= num\n",
    "    \n",
    "    return str(product)\n"
   ]
  },
  {
   "cell_type": "code",
   "execution_count": 31,
   "id": "31221b99",
   "metadata": {},
   "outputs": [
    {
     "name": "stdout",
     "output_type": "stream",
     "text": [
      "8\n",
      "60\n"
     ]
    }
   ],
   "source": [
    "def solution(xs):\n",
    "    if len(xs) == 1:\n",
    "        return str(xs[0])\n",
    "\n",
    "    negative_num = []\n",
    "    positive_num = []\n",
    "    zero_count = 0\n",
    "\n",
    "    for x in xs:\n",
    "        if x < 0:\n",
    "            negative_num.append(x)\n",
    "        elif x > 0:\n",
    "            positive_num.append(x)\n",
    "        else:\n",
    "            zero_count += 1\n",
    "\n",
    "    if len(negative_num) % 2 != 0:\n",
    "        negative_num.remove(max(negative_num))\n",
    "\n",
    "    if len(negative_num) == 1 and len(positive_num) == 0 and zero_count == 0:\n",
    "        return \"0\"\n",
    "\n",
    "    if len(negative_num) == 0 and len(positive_num) == 0 and zero_count > 0:\n",
    "        return \"0\"\n",
    "\n",
    "    max_product = 1\n",
    "    for num in negative_num + positive_num:\n",
    "        max_product *= num\n",
    "\n",
    "    print(str(max_product))\n",
    "print(solution([2, 0, 2, 2, 0]))\n",
    "print(solution([-2, -3, 4, -5]))"
   ]
  }
 ],
 "metadata": {
  "kernelspec": {
   "display_name": "Python 3 (ipykernel)",
   "language": "python",
   "name": "python3"
  },
  "language_info": {
   "codemirror_mode": {
    "name": "ipython",
    "version": 3
   },
   "file_extension": ".py",
   "mimetype": "text/x-python",
   "name": "python",
   "nbconvert_exporter": "python",
   "pygments_lexer": "ipython3",
   "version": "3.9.13"
  }
 },
 "nbformat": 4,
 "nbformat_minor": 5
}
